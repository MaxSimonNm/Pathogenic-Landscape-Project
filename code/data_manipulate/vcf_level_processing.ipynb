{
 "cells": [
  {
   "cell_type": "code",
   "execution_count": 1,
   "metadata": {},
   "outputs": [],
   "source": [
    "#!/usr/bin/env python3\n",
    "# -*- coding: utf-8 -*-\n",
    "\n",
    "import warnings\n",
    "warnings.simplefilter(action='ignore')\n",
    "import pandas as pd\n",
    "import numpy as np\n",
    "import os\n",
    "import glob2\n",
    "import re\n",
    "import tqdm\n",
    "import time\n",
    "import matplotlib.pyplot as plt\n",
    "import seaborn as sns"
   ]
  },
  {
   "cell_type": "code",
   "execution_count": 4,
   "metadata": {},
   "outputs": [
    {
     "name": "stdout",
     "output_type": "stream",
     "text": [
      "Processing 2562 files.\n"
     ]
    }
   ],
   "source": [
    "# Define paths\n",
    "RAW_PATH = r\"H:\\Shared drives\\16th_Oct_24_Data_Sharing\\FENG\"\n",
    "FILTERED_PATH = r\"E:\\indigene\"\n",
    "\n",
    "# Option to process all files or selected files based on a sample list\n",
    "process_all = True  # Set to False if processing a specific sample list\n",
    "\n",
    "# If not processing all, load sample list\n",
    "sample_list_path = r\"H:\\My Drive\\Pathogenic_Landscape\\data\\absolute\\Absolute_clinical.txt\"  # Path to the sample list\n",
    "if not process_all:\n",
    "    with open(sample_list_path, 'r') as f:\n",
    "        sample_list = [line.strip() for line in f.readlines()]  # Read and strip newline characters\n",
    "\n",
    "# Fetch raw files\n",
    "raw_files = glob2.glob(os.path.join(RAW_PATH, \"*.xlsx\"))\n",
    "\n",
    "# Filter raw files based on sample list if required\n",
    "if not process_all:\n",
    "    raw_files = [file for file in raw_files if os.path.basename(file) in sample_list]\n",
    "\n",
    "print(f\"Processing {len(raw_files)} files.\")"
   ]
  },
  {
   "cell_type": "code",
   "execution_count": 5,
   "metadata": {},
   "outputs": [
    {
     "name": "stderr",
     "output_type": "stream",
     "text": [
      "  0%|          | 0/2562 [00:00<?, ?it/s]"
     ]
    },
    {
     "name": "stderr",
     "output_type": "stream",
     "text": [
      "  0%|          | 6/2562 [00:09<1:09:42,  1.64s/it]"
     ]
    },
    {
     "name": "stdout",
     "output_type": "stream",
     "text": [
      "Error processing file H:\\Shared drives\\16th_Oct_24_Data_Sharing\\FENG\\WBCF-F-D-CE-S89_FENG.xlsx: bad operand type for unary ~: 'float'\n"
     ]
    },
    {
     "name": "stderr",
     "output_type": "stream",
     "text": [
      "  4%|▍         | 107/2562 [02:47<1:26:52,  2.12s/it]"
     ]
    },
    {
     "name": "stdout",
     "output_type": "stream",
     "text": [
      "Error processing file H:\\Shared drives\\16th_Oct_24_Data_Sharing\\FENG\\VESA-F-ce-S131-L003-modified_FENG.xlsx: 'VESA-F-ce-S131-L003-modified:DP'\n"
     ]
    },
    {
     "name": "stderr",
     "output_type": "stream",
     "text": [
      "  7%|▋         | 184/2562 [04:39<48:33,  1.23s/it]  "
     ]
    },
    {
     "name": "stdout",
     "output_type": "stream",
     "text": [
      "Error processing file H:\\Shared drives\\16th_Oct_24_Data_Sharing\\FENG\\WDDB-F1-D-CE-S47_FENG.xlsx: 'WDDB-F1-D-CE-S47:DP'\n"
     ]
    },
    {
     "name": "stderr",
     "output_type": "stream",
     "text": [
      " 17%|█▋        | 429/2562 [10:13<52:18,  1.47s/it]  "
     ]
    },
    {
     "name": "stdout",
     "output_type": "stream",
     "text": [
      "Error processing file H:\\Shared drives\\16th_Oct_24_Data_Sharing\\FENG\\WBJI-F-D-CE-S3_FENG.xlsx: Index(['IGV_link'], dtype='object')\n"
     ]
    },
    {
     "name": "stderr",
     "output_type": "stream",
     "text": [
      " 21%|██        | 544/2562 [13:15<49:23,  1.47s/it]  "
     ]
    },
    {
     "name": "stdout",
     "output_type": "stream",
     "text": [
      "Error processing file H:\\Shared drives\\16th_Oct_24_Data_Sharing\\FENG\\WBJB-F-D-L1L2-CE-S2_FENG.xlsx: Index(['IGV_link'], dtype='object')\n"
     ]
    },
    {
     "name": "stderr",
     "output_type": "stream",
     "text": [
      " 22%|██▏       | 560/2562 [13:38<48:40,  1.46s/it]"
     ]
    },
    {
     "name": "stdout",
     "output_type": "stream",
     "text": [
      "Error processing file H:\\Shared drives\\16th_Oct_24_Data_Sharing\\FENG\\WCTE-F-D-CE-STD-S66_FENG.xlsx: 'WCTE-F-D-CE-STD-S66:DP'\n"
     ]
    },
    {
     "name": "stderr",
     "output_type": "stream",
     "text": [
      " 50%|█████     | 1284/2562 [30:06<26:13,  1.23s/it] "
     ]
    },
    {
     "name": "stdout",
     "output_type": "stream",
     "text": [
      "Error processing file H:\\Shared drives\\16th_Oct_24_Data_Sharing\\FENG\\WCBD-F-D-CE-S65_FENG.xlsx: 'WCBD-F-D-CE-S65:DP'\n"
     ]
    },
    {
     "name": "stderr",
     "output_type": "stream",
     "text": [
      " 63%|██████▎   | 1614/2562 [38:10<18:06,  1.15s/it]  "
     ]
    },
    {
     "name": "stdout",
     "output_type": "stream",
     "text": [
      "Error processing file H:\\Shared drives\\16th_Oct_24_Data_Sharing\\FENG\\WBJA-F-D-CE-S1_FENG.xlsx: Index(['IGV_link'], dtype='object')\n"
     ]
    },
    {
     "name": "stderr",
     "output_type": "stream",
     "text": [
      " 82%|████████▏ | 2096/2562 [49:21<11:02,  1.42s/it]"
     ]
    },
    {
     "name": "stdout",
     "output_type": "stream",
     "text": [
      "Error processing file H:\\Shared drives\\16th_Oct_24_Data_Sharing\\FENG\\WBIB-F-D-CE-S4_FENG.xlsx: Index(['IGV_link'], dtype='object')\n"
     ]
    },
    {
     "name": "stderr",
     "output_type": "stream",
     "text": [
      "100%|██████████| 2562/2562 [1:00:28<00:00,  1.42s/it]\n"
     ]
    }
   ],
   "source": [
    "# Initialize a log file to record errors\n",
    "error_log_file = \"error_log.txt\"\n",
    "\n",
    "# Open the log file in write mode (will overwrite existing content)\n",
    "with open(error_log_file, \"w\") as log_file:\n",
    "    log_file.write(\"Error Log for File Processing\\n\")\n",
    "    log_file.write(\"=\"*50 + \"\\n\")\n",
    "\n",
    "'''\n",
    "Filtration of Certain Values:\n",
    "    FILTER = Only PASS\n",
    "    Func.ensGene = only Exonic, Splicing and Exonic;Splicing\n",
    "    ExonicFunc.ensGene = remove synonymous SNV\n",
    "    clinvar: Clinvar = Remove Unknown, Uncertain Significance, Benign\n",
    "    Intervar_auto = Only Pathogenic\n",
    "    Population Frequency Data = Only lesser than or equal to 0.01\n",
    "    Ref_Depth = Only greather than 2\n",
    "'''\n",
    "\n",
    "\n",
    "for i in tqdm.tqdm(range(len(raw_files))):\n",
    "    try:\n",
    "        df = pd.read_excel(raw_files[i]).drop_duplicates('IGV_link')\n",
    "        sp1 = re.split(r'/|\\\\', raw_files[i])[-1]\n",
    "        col_n = sp1.replace('_FENG.xlsx', '')\n",
    "        df[f'{col_n}:DP'] = df[f'{col_n}:DP'].replace('.', '0').astype('float')\n",
    "        df = df[df['FILTER']=='PASS']\n",
    "\n",
    "        ## Pop frequency\n",
    "        columns_to_process = ['esp6500siv2_all', 'ExAC_ALL', 'ExAC_SAS', 'AF', 'AF_sas', '1000g2015aug_all', '1000g2015aug_all', '1000g2015aug_SAS', 'Ref_Depth']\n",
    "\n",
    "        for column in columns_to_process:\n",
    "            df[column] = df[column].replace('.', '0').astype('float')\n",
    "\n",
    "        df = df[df['ExonicFunc.ensGene']!='synonymous SNV']\n",
    "        df = df[df['esp6500siv2_all']<= 0.01]\n",
    "        df = df[df['ExAC_ALL']<= 0.01]\n",
    "        df = df[df['ExAC_SAS']<= 0.01]\n",
    "        df = df[df['AF']<=0.01]\n",
    "        df = df[df['AF_sas']<= 0.01]\n",
    "        df = df[df['1000g2015aug_all']<= 0.01]\n",
    "        df = df[df['1000g2015aug_all']<= 0.01]\n",
    "        df = df[df['1000g2015aug_SAS']<= 0.01]\n",
    "        df = df[df['Ref_Depth']>=2]\n",
    "        df = df[~df['clinvar: Clinvar '].str.contains('benign', case=False)]\n",
    "        df.to_csv(fr'{FILTERED_PATH}\\{col_n}_filtered.csv', index=False)\n",
    "\n",
    "    except Exception as e:\n",
    "        # Log the error to the log file\n",
    "        with open(error_log_file, \"a\") as log_file:\n",
    "            log_file.write(f\"File: {raw_files[i]} caused an error\\n\")\n",
    "            log_file.write(f\"Error: {str(e)}\\n\")\n",
    "            log_file.write(\"-\" * 50 + \"\\n\")\n",
    "\n",
    "        # Optionally print the error to console for immediate feedback\n",
    "        print(f\"Error processing file {raw_files[i]}: {e}\")"
   ]
  }
 ],
 "metadata": {
  "kernelspec": {
   "display_name": "base",
   "language": "python",
   "name": "python3"
  },
  "language_info": {
   "codemirror_mode": {
    "name": "ipython",
    "version": 3
   },
   "file_extension": ".py",
   "mimetype": "text/x-python",
   "name": "python",
   "nbconvert_exporter": "python",
   "pygments_lexer": "ipython3",
   "version": "3.12.3"
  }
 },
 "nbformat": 4,
 "nbformat_minor": 2
}
