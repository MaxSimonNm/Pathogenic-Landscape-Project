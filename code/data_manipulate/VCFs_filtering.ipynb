{
  "cells": [
    {
      "cell_type": "code",
      "execution_count": 1,
      "metadata": {
        "id": "rgtZcdCmDOGT"
      },
      "outputs": [],
      "source": [
        "import warnings\n",
        "warnings.simplefilter(action='ignore')\n",
        "import pandas as pd\n",
        "import numpy as np\n",
        "import os\n",
        "import glob2\n",
        "import re\n",
        "#import progressbar\n",
        "import tqdm\n",
        "import time\n",
        "import matplotlib.pyplot as plt\n",
        "import seaborn as sns"
      ]
    },
    {
      "cell_type": "code",
      "execution_count": 2,
      "metadata": {},
      "outputs": [],
      "source": [
        "# path = r\"C:\\4bc_office_laptop\\Nilesh\\GBC_Project\\GBC_Maf\\S\"\n",
        "# path = r\"C:\\4bc_office_laptop\\Nilesh\\GBC_Project\\GBC_Maf\\S\\S_CustFilt\"\n",
        "# path = r\"C:\\4bc_office_laptop\\Nilesh\\GBC_Project\\GBC_Maf\\G\"\n",
        "# path = r\"C:\\4bc_office_laptop\\Nilesh\\GBC_Project\\DNA\\GERMLINE\\Gmam\\G_CustFilt\"\n",
        "# path = r\"C:\\4bc_office_laptop\\Nilesh\\GBC_Project\\DNA\\SOMATIC\\Smam\\S_CustFilt\"\n",
        "path = r\"C:\\4bc_office_laptop\\Nilesh\\GBC_Project\\DNA\\SOMATIC\\Smam\\S_CustFilt_new\"\n",
        "# path = r\"C:\\4bc_office_laptop\\Nilesh\\GBC_Project\\DNA\\SOMATIC\\Smam\""
      ]
    },
    {
      "cell_type": "code",
      "execution_count": 3,
      "metadata": {
        "id": "-73qlX3mDrd3"
      },
      "outputs": [],
      "source": [
        "files= glob2.glob(os.path.join(path, \"*.csv\"))\n",
        "# ce_files = []\n",
        "# abs_files =[]\n",
        "\n",
        "# for i in files:\n",
        "#   if '-SE8-' in i or '-SSE-' in i or 'SSE' in i or 'SE8' in i or '-B-' in i:\n",
        "#     ce_files.append(i)\n",
        "#   else:\n",
        "#     abs_files.append(i)"
      ]
    },
    {
      "cell_type": "code",
      "execution_count": 4,
      "metadata": {
        "id": "KYkDp5-8T3ir"
      },
      "outputs": [],
      "source": [
        "# ce_files = abs_files\n",
        "ce_files = files"
      ]
    },
    {
      "cell_type": "code",
      "execution_count": null,
      "metadata": {
        "colab": {
          "base_uri": "https://localhost:8080/"
        },
        "id": "VvgxymygxdcA",
        "outputId": "3bba33ef-0c4e-43f1-de7e-8a625344ce4e"
      },
      "outputs": [],
      "source": [
        "ce_files"
      ]
    },
    {
      "cell_type": "code",
      "execution_count": null,
      "metadata": {
        "colab": {
          "base_uri": "https://localhost:8080/"
        },
        "id": "PypCi6o0DZWr",
        "outputId": "2cfc784d-443f-41c6-ede6-b98165fe037f"
      },
      "outputs": [],
      "source": [
        "for i in tqdm.tqdm(range(len(ce_files))):\n",
        "  df = pd.read_csv(ce_files[i]).drop_duplicates('IGV_link')\n",
        "  sp1=re.split(r'/|\\\\',ce_files[i])[-1]\n",
        "  col_n=sp1.split('_')[0]\n",
        "  df[f'{col_n}:DP'] = df[f'{col_n}:DP'].replace('.', '0').astype('float')\n",
        "  df = df[df['FILTER']=='PASS']\n",
        "\n",
        "  ## Pop frequency\n",
        "  columns_to_process = ['esp6500siv2_all', 'ExAC_ALL', 'ExAC_SAS', 'AF', 'AF_sas', '1000g2015aug_all', '1000g2015aug_all', '1000g2015aug_SAS', 'Ref_Depth']\n",
        "\n",
        "  for column in columns_to_process:\n",
        "    df[column] = df[column].replace('.', '0').astype('float')\n",
        "\n",
        "  df = df[df['esp6500siv2_all']<= 0.01]\n",
        "  df = df[df['ExAC_ALL']<= 0.01]\n",
        "  df = df[df['ExAC_SAS']<= 0.01]\n",
        "  df = df[df['AF']<=0.01]\n",
        "  df = df[df['AF_sas']<= 0.01]\n",
        "  df = df[df['1000g2015aug_all']<= 0.01]\n",
        "  df = df[df['1000g2015aug_all']<= 0.01]\n",
        "  df = df[df['1000g2015aug_SAS']<= 0.01]\n",
        "  # df = df[df['Ref_Depth']>=2]\n",
        "  df = df[df['ExonicFunc.ensGene']!='synonymous SNV']\n",
        "  df = df[~df['InterVar_automated'].str.contains('benign', case=False)]\n",
        "  df.to_csv(fr'C:\\4bc_office_laptop\\Nilesh\\GBC_Project\\DNA\\SOMATIC\\Smam\\S_CustFilt_new\\{col_n}_filtered.csv', index=False)\n"
      ]
    },
    {
      "cell_type": "markdown",
      "metadata": {
        "id": "1vSisqVNzica"
      },
      "source": [
        "## Compose the binary file"
      ]
    },
    {
      "cell_type": "code",
      "execution_count": null,
      "metadata": {
        "colab": {
          "base_uri": "https://localhost:8080/"
        },
        "id": "kHdDKWIzHG-4",
        "outputId": "7dbf89b8-fa23-4d7d-9469-821b6a589d26"
      },
      "outputs": [],
      "source": [
        "my_df=[]\n",
        "\n",
        "\n",
        "\n",
        "for i in tqdm.tqdm(range(len(ce_files))):\n",
        "  df = pd.read_csv(ce_files[i]).drop_duplicates()\n",
        "  sp1=re.split(r'/|\\\\',ce_files[i])[-1]\n",
        "  col_n=sp1.split('_')[0]\n",
        "  row_list=df['Ref.Gene'].tolist()\n",
        "  col_list=df['InterVar_automated'].tolist()\n",
        "  new_df=pd.DataFrame(col_list,index=row_list,columns=[col_n])\n",
        "  new_df=new_df.replace(\"Uncertain_significance\",\"1\")\n",
        "  new_df=new_df.replace(\"Uncertain_significance\",\"1\")\n",
        "  new_df=new_df.replace(\"Benign\",\"2\")\n",
        "  new_df=new_df.replace(\"Likely_benign\",\"3\")\n",
        "  new_df=new_df.replace(\"Likely_pathogenic\",\"5\")\n",
        "  new_df=new_df.replace('Pathogenic',\"6\")\n",
        "  new_df=new_df.replace('.','4')\n",
        "  new_df=new_df.astype(int)\n",
        "  mod_df = new_df.copy()\n",
        "  mod_df[new_df > 4] = 1 # Pathogenic\n",
        "  mod_df[(new_df <= 4) & (new_df > 0)] = 1 #Benign\n",
        "  mod_df.fillna(0, inplace=True)\n",
        "  mod_df = mod_df.groupby(mod_df.index.tolist(),axis=0)\n",
        "  grouped_df=mod_df.sum()\n",
        "  my_df.append(grouped_df)"
      ]
    },
    {
      "cell_type": "code",
      "execution_count": null,
      "metadata": {
        "colab": {
          "base_uri": "https://localhost:8080/"
        },
        "id": "RzoLO5Z9yS8N",
        "outputId": "2459c66a-ba16-441a-9801-08cfbb0dad3c"
      },
      "outputs": [],
      "source": [
        "fdf = pd.concat(my_df, axis=1).fillna(0).T\n",
        "fdf.sum().sum()"
      ]
    },
    {
      "cell_type": "code",
      "execution_count": 8,
      "metadata": {
        "id": "nEG42FhIzPwy"
      },
      "outputs": [],
      "source": [
        "fdf = pd.concat(my_df, axis=1).fillna(0).T\n",
        "fdf = fdf.apply(lambda x: x.apply(lambda y: 1 if y > 0 else 0))\n",
        "\n",
        "def fbc_rename(x):\n",
        "  return 'IN-423-'+x.split('-')[0]\n",
        "new_indexes = []\n",
        "for i in fdf.index.to_list():\n",
        "  new_indexes.append(fbc_rename(i))\n",
        "\n",
        "fdf.set_index(pd.Index(new_indexes), inplace=True)\n",
        "\n",
        "fdf.drop_duplicates(inplace=True)"
      ]
    },
    {
      "cell_type": "code",
      "execution_count": null,
      "metadata": {
        "colab": {
          "base_uri": "https://localhost:8080/",
          "height": 768
        },
        "id": "LtCK9DsMVGd2",
        "outputId": "cefd4a0b-1954-4a2d-b8fb-fa1fbcbe1a1b"
      },
      "outputs": [],
      "source": [
        "fdf"
      ]
    },
    {
      "cell_type": "code",
      "execution_count": 10,
      "metadata": {
        "id": "GrL4iK-4jL83"
      },
      "outputs": [],
      "source": [
        "freq_df = fdf.sum(axis=0).reset_index()\n",
        "freq_df.columns  = ['Gene', 'Frequency']"
      ]
    },
    {
      "cell_type": "code",
      "execution_count": 11,
      "metadata": {
        "id": "cjrZkP4WDxKP"
      },
      "outputs": [],
      "source": [
        "freq_df.sort_values('Frequency', ascending=False).to_excel('GBC_S_new_v2_gene_freq.xlsx')"
      ]
    },
    {
      "cell_type": "code",
      "execution_count": null,
      "metadata": {
        "colab": {
          "base_uri": "https://localhost:8080/",
          "height": 494
        },
        "id": "DaAehclVjlDx",
        "outputId": "28f7d30f-47fb-4d3c-e9a3-ac09fa8456ec"
      },
      "outputs": [],
      "source": [
        "plt.figure(figsize=(40, 8))\n",
        "custom_bw_palette = ['#FFFFFF','#000000']\n",
        "\n",
        "# Set the custom palette in Seaborn\n",
        "x=sns.color_palette(custom_bw_palette)\n",
        "\n",
        "sns.heatmap(fdf[freq_df.sort_values('Frequency', ascending=False).head(100)['Gene'].to_list()], cmap=x, linewidths=1, linecolor='black')\n"
      ]
    },
    {
      "cell_type": "code",
      "execution_count": null,
      "metadata": {
        "colab": {
          "base_uri": "https://localhost:8080/"
        },
        "id": "0n8sJMngmLiJ",
        "outputId": "3078b7af-0b33-436b-ed0d-9e1d9461a347"
      },
      "outputs": [],
      "source": [
        "freq_df.sort_values('Frequency', ascending=False).head(100)['Gene'].to_list()"
      ]
    },
    {
      "cell_type": "code",
      "execution_count": null,
      "metadata": {
        "colab": {
          "base_uri": "https://localhost:8080/",
          "height": 432
        },
        "id": "X7jMT4zvk8Ks",
        "outputId": "90c43f84-8f06-4c0d-a25a-6628f5cba248"
      },
      "outputs": [],
      "source": [
        "plt.figure(figsize=(40, 8))\n",
        "sns.barplot(freq_df.sort_values('Frequency', ascending=False).head(100), x='Gene', y='Frequency')\n",
        "var = plt.xticks(rotation=90)"
      ]
    },
    {
      "cell_type": "code",
      "execution_count": null,
      "metadata": {
        "colab": {
          "base_uri": "https://localhost:8080/",
          "height": 394
        },
        "id": "jlj3OS9fXUOu",
        "outputId": "04026868-d4ff-4cf7-b756-12845ecb39fe"
      },
      "outputs": [],
      "source": [
        "## Gene frequency within Dataset\n",
        "\n",
        "result_dict = {}\n",
        "for index, row in fdf.iterrows():\n",
        "    genes_list = row[row == 1].index.tolist()\n",
        "    result_dict[index] = genes_list\n",
        "\n",
        "gene_frequency = {}\n",
        "for genes_list in result_dict.values():\n",
        "    for gene in genes_list:\n",
        "        if gene in gene_frequency:\n",
        "            gene_frequency[gene] += 1\n",
        "        else:\n",
        "            gene_frequency[gene] = 1\n",
        "\n",
        "gf =pd.DataFrame(list(gene_frequency.items()), columns=['Gene', 'Frequency']).sort_values('Frequency', ascending=False).iloc[:100, :]\n",
        "gf.to_csv('gene_freq_WC_cancer.csv')\n",
        "plt.figure(figsize=(30, 5))\n",
        "sns.barplot(gf, x='Gene', y='Frequency')\n",
        "var = plt.xticks(rotation=90)"
      ]
    }
  ],
  "metadata": {
    "colab": {
      "provenance": []
    },
    "kernelspec": {
      "display_name": "Python 3",
      "name": "python3"
    },
    "language_info": {
      "codemirror_mode": {
        "name": "ipython",
        "version": 3
      },
      "file_extension": ".py",
      "mimetype": "text/x-python",
      "name": "python",
      "nbconvert_exporter": "python",
      "pygments_lexer": "ipython3",
      "version": "3.12.3"
    }
  },
  "nbformat": 4,
  "nbformat_minor": 0
}
