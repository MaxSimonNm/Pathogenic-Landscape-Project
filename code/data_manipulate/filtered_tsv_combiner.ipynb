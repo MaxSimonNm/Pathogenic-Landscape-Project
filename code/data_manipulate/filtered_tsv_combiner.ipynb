{
 "cells": [
  {
   "cell_type": "code",
   "execution_count": 4,
   "metadata": {},
   "outputs": [
    {
     "name": "stderr",
     "output_type": "stream",
     "text": [
      "Processing files: 100%|██████████| 631/631 [11:26<00:00,  1.09s/it]\n"
     ]
    },
    {
     "name": "stdout",
     "output_type": "stream",
     "text": [
      "Combined file saved as research_filtered_combined.tsv\n"
     ]
    }
   ],
   "source": [
    "import pandas as pd\n",
    "import os\n",
    "import glob\n",
    "from tqdm import tqdm\n",
    "\n",
    "# Define the folder containing the TSV files\n",
    "folder_path = r\"H:\\My Drive\\Pathogenic_Landscape\\data\\absolute\\filtered_mams_research_tsv\"  # Replace with your folder path\n",
    "output_file = r\"research_filtered_combined.tsv\"\n",
    "\n",
    "# Columns to select from each file\n",
    "sel_cols = [\n",
    "    'CHROM_x', 'POS_x', 'End_x', 'REF_x', 'ALT_x', 'Ref.Gene', \n",
    "    'Func.ensGene', 'ExonicFunc.ensGene', 'AAChange.ensGene', \n",
    "    'Interpro_domain', 'avsnp150', 'CLNDN', 'CLNDISDB', 'clinvar: Clinvar '\n",
    "]\n",
    "\n",
    "# Create a list to hold dataframes\n",
    "combined_data = []\n",
    "\n",
    "# Use glob to iterate through TSV files\n",
    "file_paths = glob.glob(os.path.join(folder_path, \"*.tsv\"))\n",
    "\n",
    "for file_path in tqdm(file_paths, desc=\"Processing files\"):\n",
    "    try:\n",
    "        # Extract sample name from file name and remove suffix \"_filtered.tsv\"\n",
    "        sample_name = os.path.basename(file_path).replace(\"_filtered.tsv\", \"\")\n",
    "        \n",
    "        # Read the TSV file with only the selected columns\n",
    "        data = pd.read_csv(file_path, sep='\\t', usecols=sel_cols, low_memory=False)\n",
    "        \n",
    "        # Add a column for sample name\n",
    "        data.insert(0, 'Sample_Name', sample_name)\n",
    "        \n",
    "        combined_data.append(data)\n",
    "    except ValueError as e:\n",
    "        print(f\"Skipping {file_path} due to missing columns: {e}\")\n",
    "\n",
    "# Combine all dataframes\n",
    "if combined_data:\n",
    "    final_combined = pd.concat(combined_data, ignore_index=True)\n",
    "    \n",
    "    # Save to TSV\n",
    "    final_combined.to_csv(output_file, sep='\\t', index=False)\n",
    "    print(f\"Combined file saved as {output_file}\")\n",
    "else:\n",
    "    print(\"No valid files to combine.\")\n"
   ]
  },
  {
   "cell_type": "code",
   "execution_count": 5,
   "metadata": {},
   "outputs": [
    {
     "name": "stderr",
     "output_type": "stream",
     "text": [
      "Processing output files: 100%|██████████| 2/2 [00:09<00:00,  4.84s/it]\n"
     ]
    },
    {
     "name": "stdout",
     "output_type": "stream",
     "text": [
      "Final combined file saved as final_filtered_combined.tsv\n"
     ]
    }
   ],
   "source": [
    "import pandas as pd\n",
    "import glob\n",
    "from tqdm import tqdm\n",
    "\n",
    "# Define the folder containing the output TSV files\n",
    "folder_path = r\"E:\\clinical_research_filtered_combined\"  # Replace with your folder path\n",
    "output_file = \"final_filtered_combined.tsv\"\n",
    "\n",
    "# Columns to select (optional, you can omit this if all columns should be included)\n",
    "sel_cols = None  # Set to None to include all columns, or specify columns like ['Column1', 'Column2']\n",
    "\n",
    "# Create a list to hold dataframes\n",
    "combined_data = []\n",
    "\n",
    "# Use glob to find TSV files to combine\n",
    "file_paths = glob.glob(os.path.join(folder_path, \"*.tsv\"))\n",
    "\n",
    "for file_path in tqdm(file_paths, desc=\"Processing output files\"):\n",
    "    try:\n",
    "        # Read the TSV file\n",
    "        data = pd.read_csv(file_path, sep='\\t', usecols=sel_cols, low_memory=False)\n",
    "        \n",
    "        combined_data.append(data)\n",
    "    except ValueError as e:\n",
    "        print(f\"Skipping {file_path} due to missing columns: {e}\")\n",
    "\n",
    "# Combine all dataframes\n",
    "if combined_data:\n",
    "    final_combined = pd.concat(combined_data, ignore_index=True)\n",
    "    \n",
    "    # Save to a new TSV file\n",
    "    final_combined.to_csv(output_file, sep='\\t', index=False)\n",
    "    print(f\"Final combined file saved as {output_file}\")\n",
    "else:\n",
    "    print(\"No valid files to combine.\")\n"
   ]
  }
 ],
 "metadata": {
  "kernelspec": {
   "display_name": "base",
   "language": "python",
   "name": "python3"
  },
  "language_info": {
   "codemirror_mode": {
    "name": "ipython",
    "version": 3
   },
   "file_extension": ".py",
   "mimetype": "text/x-python",
   "name": "python",
   "nbconvert_exporter": "python",
   "pygments_lexer": "ipython3",
   "version": "3.12.3"
  }
 },
 "nbformat": 4,
 "nbformat_minor": 2
}
