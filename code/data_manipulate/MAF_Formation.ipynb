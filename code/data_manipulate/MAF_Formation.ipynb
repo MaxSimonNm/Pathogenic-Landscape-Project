{
 "cells": [
  {
   "cell_type": "code",
   "execution_count": 2,
   "metadata": {},
   "outputs": [],
   "source": [
    "import pandas as pd"
   ]
  },
  {
   "cell_type": "code",
   "execution_count": 2,
   "metadata": {},
   "outputs": [],
   "source": [
    "# data = pd.read_excel('E:/OneDrive_Outlook/OneDrive/Documents/GitHub/MAF File/patho_only_finalsubset.xlsx', sheet_name= 'Sheet1')\n",
    "#data = pd.read_csv(r'H:\\My Drive\\Pathogenic_Landscape\\data\\indigene\\Indig_patho_only_df.csv')\n",
    "data = pd.read_csv(r'H:\\My Drive\\Pathogenic_Landscape\\data\\absolute\\clinical_research_filtered_combined\\dataframes\\patho_only_df.csv')"
   ]
  },
  {
   "cell_type": "code",
   "execution_count": 3,
   "metadata": {},
   "outputs": [],
   "source": [
    "data = pd.read_excel(r'H:\\My Drive\\Pathogenic_Landscape\\assets\\absolute_indie_patho\\absolute_Indie_patho.xlsx')"
   ]
  },
  {
   "cell_type": "code",
   "execution_count": 6,
   "metadata": {},
   "outputs": [],
   "source": [
    "#Variant_Type\n",
    "def determine_variant_type(ref, alt):\n",
    "    if len(ref) == 1 and len(alt) == 1:\n",
    "        return \"SNP\"\n",
    "    elif len(ref) < len(alt):\n",
    "        return \"INS\"\n",
    "    elif len(ref) > len(alt):\n",
    "        return \"DEL\"\n",
    "    elif len(ref) == 2 and len(alt) == 2:\n",
    "        return \"DNP\"\n",
    "    elif len(ref) == 3 and len(alt) == 3:\n",
    "        return \"TNP\"\n",
    "    else:\n",
    "        return \"ONP\"\n",
    "\n",
    "def extract_exon(entry):\n",
    "    try:\n",
    "        first_entry = entry.split(\",\")[0]\n",
    "\n",
    "        parts = first_entry.split(\":\")\n",
    "        if len(parts) >= 3:\n",
    "            exon_part = parts[2]  # Extract the 'exon' part\n",
    "            return exon_part\n",
    "        else:\n",
    "            return None\n",
    "    except Exception as e:\n",
    "        print(\"Nan\")\n",
    "        return None"
   ]
  },
  {
   "cell_type": "markdown",
   "metadata": {},
   "source": [
    "GDC-Compliant List for Variant Classification: \n",
    "- Frame_Shift_Del\n",
    "- Frame_Shift_Ins\n",
    "- In_Frame_Del\n",
    "- In_Frame_Ins\n",
    "- Missense_Mutation\n",
    "- Nonsense_Mutation\n",
    "- Silent\n",
    "- Splice_Site\n",
    "- Translation_Start_Site\n",
    "- Nonstop_Mutation\n",
    "- RNA\n",
    "- Targeted_Region"
   ]
  },
  {
   "cell_type": "code",
   "execution_count": 10,
   "metadata": {},
   "outputs": [],
   "source": [
    "class VariantMapper:\n",
    "    def __init__(self):\n",
    "        self.variant_mapping = {\n",
    "            \"stopgain\": \"Nonsense_Mutation\",\n",
    "            \"nonsynonymous snv\": \"Missense_Mutation\",\n",
    "            \"frameshift deletion\": \"Frame_Shift_Del\",\n",
    "            \"frameshift insertion\": \"Frame_Shift_Ins\",\n",
    "            \"nonframeshift insertion\": \"In_Frame_Ins\",\n",
    "            \"nonframeshift deletion\": \"In_Frame_Del\",\n",
    "            \"stoploss\": \"Nonstop_Mutation\",\n",
    "            \".\": \"Splice_Site\",\n",
    "        }\n",
    "    \n",
    "    def map_variant(self, variant):\n",
    "        return self.variant_mapping.get(str(variant).lower(), variant)  # Handles NaN & unknowns\n",
    "\n",
    "mapper = VariantMapper()\n",
    "\n",
    "maf_data = pd.DataFrame({\n",
    "    \"Tumor_Sample_Barcode\": data[\"Sample_Name\"],\n",
    "    \"Hugo_Symbol\": data[\"Ref.Gene\"],\n",
    "    \"Chromosome\": data[\"CHROM_x\"],\n",
    "    \"Start_Position\": data[\"POS_x\"],\n",
    "    \"End_Position\": data[\"End_x\"],\n",
    "    \"Variant_Classification\": data[\"ExonicFunc.ensGene\"].apply(mapper.map_variant),\n",
    "    \"Variant_Type\": data.apply(lambda row: determine_variant_type(row[\"REF_x\"], row[\"ALT_x\"]), axis=1),\n",
    "    \"Reference_Allele\": data[\"REF_x\"],\n",
    "    \"Tumor_Seq_Allele1\": data[\"REF_x\"],\n",
    "    \"Tumor_Seq_Allele2\": data[\"ALT_x\"],\n",
    "    \"tx\": data[\"AAChange.ensGene\"].str.extract(r'(ENST[0-9]+)', expand=False),\n",
    "    \"exon\": data[\"AAChange.ensGene\"].apply(extract_exon),\n",
    "    \"txChange\": data[\"AAChange.ensGene\"].str.extract(r'(c\\.[^:]+)', expand=False),\n",
    "    \"aaChange\": data[\"AAChange.ensGene\"].str.extract(r'(p\\.[^,]+)', expand=False),\n",
    "    \"avsnp150\": data[\"avsnp150\"]\n",
    "})\n"
   ]
  },
  {
   "cell_type": "code",
   "execution_count": 11,
   "metadata": {},
   "outputs": [
    {
     "data": {
      "application/vnd.microsoft.datawrangler.viewer.v0+json": {
       "columns": [
        {
         "name": "index",
         "rawType": "int64",
         "type": "integer"
        },
        {
         "name": "Tumor_Sample_Barcode",
         "rawType": "object",
         "type": "string"
        },
        {
         "name": "Hugo_Symbol",
         "rawType": "object",
         "type": "string"
        },
        {
         "name": "Chromosome",
         "rawType": "object",
         "type": "string"
        },
        {
         "name": "Start_Position",
         "rawType": "int64",
         "type": "integer"
        },
        {
         "name": "End_Position",
         "rawType": "int64",
         "type": "integer"
        },
        {
         "name": "Variant_Classification",
         "rawType": "object",
         "type": "string"
        },
        {
         "name": "Variant_Type",
         "rawType": "object",
         "type": "string"
        },
        {
         "name": "Reference_Allele",
         "rawType": "object",
         "type": "string"
        },
        {
         "name": "Tumor_Seq_Allele1",
         "rawType": "object",
         "type": "string"
        },
        {
         "name": "Tumor_Seq_Allele2",
         "rawType": "object",
         "type": "string"
        },
        {
         "name": "tx",
         "rawType": "object",
         "type": "string"
        },
        {
         "name": "exon",
         "rawType": "object",
         "type": "string"
        },
        {
         "name": "txChange",
         "rawType": "object",
         "type": "string"
        },
        {
         "name": "aaChange",
         "rawType": "object",
         "type": "string"
        },
        {
         "name": "avsnp150",
         "rawType": "object",
         "type": "string"
        }
       ],
       "conversionMethod": "pd.DataFrame",
       "ref": "e100cdf7-d094-4def-b5f5-d7934b5bfdfa",
       "rows": [
        [
         "0",
         "IN-423-TKKC-F-Merged",
         "CFTR",
         "chr7",
         "117188852",
         "117188852",
         "Missense_Mutation",
         "SNP",
         "T",
         "T",
         "C",
         "ENST00000426809",
         "exon9",
         "c.T1277C",
         "p.V426A",
         "rs193922500"
        ],
        [
         "1",
         "IN-423-TKKC-F-Merged",
         "CTNS",
         "chr17",
         "3543516",
         "3543519",
         "Frame_Shift_Del",
         "DEL",
         "GCTGA",
         "GCTGA",
         "G",
         "ENST00000576979",
         "exon1",
         "c.16_19del",
         "p.L6fs",
         "rs786204501"
        ],
        [
         "2",
         "IN-423-TKXA-F2-IE2-RE",
         "PEX12",
         "chr17",
         "33904992",
         "33904992",
         "Nonsense_Mutation",
         "SNP",
         "G",
         "G",
         "A",
         "ENST00000225873",
         "exon1",
         "c.C49T",
         "p.Q17X",
         "rs888633730"
        ],
        [
         "3",
         "IN-423-TKXA-F2-IE2-RE",
         "BMPR2",
         "chr2",
         "203383717",
         "203383717",
         "Missense_Mutation",
         "SNP",
         "A",
         "A",
         "G",
         "ENST00000374574",
         "exon6",
         "c.A794G",
         "p.E265G",
         "rs1085307259"
        ],
        [
         "4",
         "IN-423-TKXA-F2-IE2-RE",
         "FYCO1",
         "chr3",
         "45965238",
         "45965238",
         "Missense_Mutation",
         "SNP",
         "C",
         "C",
         "T",
         "ENST00000438446",
         "exon5",
         "c.G284A",
         "p.R95Q",
         "rs140159323"
        ]
       ],
       "shape": {
        "columns": 15,
        "rows": 5
       }
      },
      "text/html": [
       "<div>\n",
       "<style scoped>\n",
       "    .dataframe tbody tr th:only-of-type {\n",
       "        vertical-align: middle;\n",
       "    }\n",
       "\n",
       "    .dataframe tbody tr th {\n",
       "        vertical-align: top;\n",
       "    }\n",
       "\n",
       "    .dataframe thead th {\n",
       "        text-align: right;\n",
       "    }\n",
       "</style>\n",
       "<table border=\"1\" class=\"dataframe\">\n",
       "  <thead>\n",
       "    <tr style=\"text-align: right;\">\n",
       "      <th></th>\n",
       "      <th>Tumor_Sample_Barcode</th>\n",
       "      <th>Hugo_Symbol</th>\n",
       "      <th>Chromosome</th>\n",
       "      <th>Start_Position</th>\n",
       "      <th>End_Position</th>\n",
       "      <th>Variant_Classification</th>\n",
       "      <th>Variant_Type</th>\n",
       "      <th>Reference_Allele</th>\n",
       "      <th>Tumor_Seq_Allele1</th>\n",
       "      <th>Tumor_Seq_Allele2</th>\n",
       "      <th>tx</th>\n",
       "      <th>exon</th>\n",
       "      <th>txChange</th>\n",
       "      <th>aaChange</th>\n",
       "      <th>avsnp150</th>\n",
       "    </tr>\n",
       "  </thead>\n",
       "  <tbody>\n",
       "    <tr>\n",
       "      <th>0</th>\n",
       "      <td>IN-423-TKKC-F-Merged</td>\n",
       "      <td>CFTR</td>\n",
       "      <td>chr7</td>\n",
       "      <td>117188852</td>\n",
       "      <td>117188852</td>\n",
       "      <td>Missense_Mutation</td>\n",
       "      <td>SNP</td>\n",
       "      <td>T</td>\n",
       "      <td>T</td>\n",
       "      <td>C</td>\n",
       "      <td>ENST00000426809</td>\n",
       "      <td>exon9</td>\n",
       "      <td>c.T1277C</td>\n",
       "      <td>p.V426A</td>\n",
       "      <td>rs193922500</td>\n",
       "    </tr>\n",
       "    <tr>\n",
       "      <th>1</th>\n",
       "      <td>IN-423-TKKC-F-Merged</td>\n",
       "      <td>CTNS</td>\n",
       "      <td>chr17</td>\n",
       "      <td>3543516</td>\n",
       "      <td>3543519</td>\n",
       "      <td>Frame_Shift_Del</td>\n",
       "      <td>DEL</td>\n",
       "      <td>GCTGA</td>\n",
       "      <td>GCTGA</td>\n",
       "      <td>G</td>\n",
       "      <td>ENST00000576979</td>\n",
       "      <td>exon1</td>\n",
       "      <td>c.16_19del</td>\n",
       "      <td>p.L6fs</td>\n",
       "      <td>rs786204501</td>\n",
       "    </tr>\n",
       "    <tr>\n",
       "      <th>2</th>\n",
       "      <td>IN-423-TKXA-F2-IE2-RE</td>\n",
       "      <td>PEX12</td>\n",
       "      <td>chr17</td>\n",
       "      <td>33904992</td>\n",
       "      <td>33904992</td>\n",
       "      <td>Nonsense_Mutation</td>\n",
       "      <td>SNP</td>\n",
       "      <td>G</td>\n",
       "      <td>G</td>\n",
       "      <td>A</td>\n",
       "      <td>ENST00000225873</td>\n",
       "      <td>exon1</td>\n",
       "      <td>c.C49T</td>\n",
       "      <td>p.Q17X</td>\n",
       "      <td>rs888633730</td>\n",
       "    </tr>\n",
       "    <tr>\n",
       "      <th>3</th>\n",
       "      <td>IN-423-TKXA-F2-IE2-RE</td>\n",
       "      <td>BMPR2</td>\n",
       "      <td>chr2</td>\n",
       "      <td>203383717</td>\n",
       "      <td>203383717</td>\n",
       "      <td>Missense_Mutation</td>\n",
       "      <td>SNP</td>\n",
       "      <td>A</td>\n",
       "      <td>A</td>\n",
       "      <td>G</td>\n",
       "      <td>ENST00000374574</td>\n",
       "      <td>exon6</td>\n",
       "      <td>c.A794G</td>\n",
       "      <td>p.E265G</td>\n",
       "      <td>rs1085307259</td>\n",
       "    </tr>\n",
       "    <tr>\n",
       "      <th>4</th>\n",
       "      <td>IN-423-TKXA-F2-IE2-RE</td>\n",
       "      <td>FYCO1</td>\n",
       "      <td>chr3</td>\n",
       "      <td>45965238</td>\n",
       "      <td>45965238</td>\n",
       "      <td>Missense_Mutation</td>\n",
       "      <td>SNP</td>\n",
       "      <td>C</td>\n",
       "      <td>C</td>\n",
       "      <td>T</td>\n",
       "      <td>ENST00000438446</td>\n",
       "      <td>exon5</td>\n",
       "      <td>c.G284A</td>\n",
       "      <td>p.R95Q</td>\n",
       "      <td>rs140159323</td>\n",
       "    </tr>\n",
       "  </tbody>\n",
       "</table>\n",
       "</div>"
      ],
      "text/plain": [
       "    Tumor_Sample_Barcode Hugo_Symbol Chromosome  Start_Position  End_Position  \\\n",
       "0   IN-423-TKKC-F-Merged        CFTR       chr7       117188852     117188852   \n",
       "1   IN-423-TKKC-F-Merged        CTNS      chr17         3543516       3543519   \n",
       "2  IN-423-TKXA-F2-IE2-RE       PEX12      chr17        33904992      33904992   \n",
       "3  IN-423-TKXA-F2-IE2-RE       BMPR2       chr2       203383717     203383717   \n",
       "4  IN-423-TKXA-F2-IE2-RE       FYCO1       chr3        45965238      45965238   \n",
       "\n",
       "  Variant_Classification Variant_Type Reference_Allele Tumor_Seq_Allele1  \\\n",
       "0      Missense_Mutation          SNP                T                 T   \n",
       "1        Frame_Shift_Del          DEL            GCTGA             GCTGA   \n",
       "2      Nonsense_Mutation          SNP                G                 G   \n",
       "3      Missense_Mutation          SNP                A                 A   \n",
       "4      Missense_Mutation          SNP                C                 C   \n",
       "\n",
       "  Tumor_Seq_Allele2               tx   exon    txChange aaChange      avsnp150  \n",
       "0                 C  ENST00000426809  exon9    c.T1277C  p.V426A   rs193922500  \n",
       "1                 G  ENST00000576979  exon1  c.16_19del   p.L6fs   rs786204501  \n",
       "2                 A  ENST00000225873  exon1      c.C49T   p.Q17X   rs888633730  \n",
       "3                 G  ENST00000374574  exon6     c.A794G  p.E265G  rs1085307259  \n",
       "4                 T  ENST00000438446  exon5     c.G284A   p.R95Q   rs140159323  "
      ]
     },
     "execution_count": 11,
     "metadata": {},
     "output_type": "execute_result"
    }
   ],
   "source": [
    "maf_data.head()"
   ]
  },
  {
   "cell_type": "code",
   "execution_count": 9,
   "metadata": {},
   "outputs": [],
   "source": [
    "#maf_data.to_csv(r\"H:\\My Drive\\Pathogenic_Landscape\\data\\indigene\\Indig_Patho_MAF.maf\", sep=\"\\t\", index=False)\n",
    "maf_data.to_csv(r\"H:\\My Drive\\Pathogenic_Landscape\\data\\absolute\\clinical_research_filtered_combined\\Absolute_Patho_MAF.maf\", sep=\"\\t\", index=False)"
   ]
  },
  {
   "cell_type": "code",
   "execution_count": 12,
   "metadata": {},
   "outputs": [],
   "source": [
    "maf_data.to_csv(r\"H:\\My Drive\\Pathogenic_Landscape\\assets\\absolute_indie_patho\\Combined_Patho_MAF.maf\", sep=\"\\t\", index=False)"
   ]
  }
 ],
 "metadata": {
  "kernelspec": {
   "display_name": "base",
   "language": "python",
   "name": "python3"
  },
  "language_info": {
   "codemirror_mode": {
    "name": "ipython",
    "version": 3
   },
   "file_extension": ".py",
   "mimetype": "text/x-python",
   "name": "python",
   "nbconvert_exporter": "python",
   "pygments_lexer": "ipython3",
   "version": "3.12.3"
  }
 },
 "nbformat": 4,
 "nbformat_minor": 2
}
